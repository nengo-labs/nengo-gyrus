{
 "cells": [
  {
   "cell_type": "markdown",
   "metadata": {},
   "source": [
    "# Times Table\n",
    "\n",
    "An example of using `np.outer` to compute a 10x10 grid of pairwise multiplications, each\n",
    "with a separate product network."
   ]
  },
  {
   "cell_type": "code",
   "execution_count": null,
   "metadata": {},
   "outputs": [],
   "source": [
    "%matplotlib inline\n",
    "import matplotlib.pyplot as plt\n",
    "import numpy as np\n",
    "\n",
    "import nengo\n",
    "from nengo_gui.jupyter import InlineGUI\n",
    "\n",
    "import gyrus"
   ]
  },
  {
   "cell_type": "markdown",
   "metadata": {},
   "source": [
    "## Nengo Approach\n",
    "\n",
    "Here is how you would do this using Nengo."
   ]
  },
  {
   "cell_type": "code",
   "execution_count": null,
   "metadata": {},
   "outputs": [],
   "source": [
    "u = np.linspace(-1, 1, 10)"
   ]
  },
  {
   "cell_type": "code",
   "execution_count": null,
   "metadata": {},
   "outputs": [],
   "source": [
    "with nengo.Network() as model:\n",
    "    stims = [nengo.Node(u_i) for u_i in u]\n",
    "    probes = np.empty((len(u), len(u)), dtype=object)\n",
    "    for i in range(len(u)):\n",
    "        for j in range(len(u)):\n",
    "            product = nengo.networks.Product(n_neurons=200, dimensions=1)\n",
    "            nengo.Connection(stims[i], product.input_a, synapse=None)\n",
    "            nengo.Connection(stims[j], product.input_b, synapse=None)\n",
    "            probes[i, j] = nengo.Probe(product.output, synapse=0.005)"
   ]
  },
  {
   "cell_type": "code",
   "execution_count": null,
   "metadata": {},
   "outputs": [],
   "source": [
    "with nengo.Simulator(model) as sim:\n",
    "    sim.run(0.1)\n",
    "\n",
    "out = np.asarray(\n",
    "    [\n",
    "        [sim.data[probes[i, j]].squeeze(axis=-1) for j in range(len(u))]\n",
    "        for i in range(len(u))\n",
    "    ]\n",
    ")"
   ]
  },
  {
   "cell_type": "code",
   "execution_count": null,
   "metadata": {},
   "outputs": [],
   "source": [
    "def plot(out):\n",
    "    # Reshape the data into an n-by-n block matrix where each bock\n",
    "    # is s-by-s corresponding to the s**2 time-points for the\n",
    "    # output of the corresponding Product network.\n",
    "    n = len(u)\n",
    "    assert n == out.shape[0] == out.shape[1]\n",
    "    s = int(np.sqrt(out.shape[2]))\n",
    "    assert s ** 2 == out.shape[2]\n",
    "\n",
    "    a = np.zeros((n * s, n * s))\n",
    "    for i in range(n):\n",
    "        for j in range(n):\n",
    "            a[i * s : (i + 1) * s, j * s : (j + 1) * s] = out[i, j].reshape((s, s))\n",
    "\n",
    "    u_lim = (np.min(u), np.max(u))\n",
    "    fig, axes = plt.subplots(1, 2, sharey=True, figsize=(10, 6))\n",
    "    axes[0].set_title(\"Model Output (Reshaped)\")\n",
    "    axes[0].imshow(a, extent=u_lim * 2)\n",
    "    axes[1].set_title(\"Ideal Times Table\")\n",
    "    axes[1].imshow(np.outer(u, u), extent=u_lim * 2)\n",
    "    fig.show()"
   ]
  },
  {
   "cell_type": "code",
   "execution_count": null,
   "metadata": {},
   "outputs": [],
   "source": [
    "plot(out)"
   ]
  },
  {
   "cell_type": "markdown",
   "metadata": {},
   "source": [
    "## Gyrus Approach\n",
    "\n",
    "And, here is the exact same Nengo network generated using Gyrus. It is essentially just\n",
    "one line: `np.outer(x, x).filter(tau)`!"
   ]
  },
  {
   "cell_type": "code",
   "execution_count": null,
   "metadata": {},
   "outputs": [],
   "source": [
    "def times_table(u, tau=0.005):\n",
    "    x = gyrus.stimuli(u)\n",
    "    return np.outer(x, x).filter(tau)\n",
    "\n",
    "\n",
    "out = np.asarray(times_table(u).run(0.1)).squeeze(axis=-1)"
   ]
  },
  {
   "cell_type": "code",
   "execution_count": null,
   "metadata": {},
   "outputs": [],
   "source": [
    "plot(out)"
   ]
  },
  {
   "cell_type": "markdown",
   "metadata": {},
   "source": [
    "## Nengo GUI Visualization\n",
    "\n",
    "Lastly, we visualize a 3x3 slice of the model in the Nengo GUI. Note that the only the\n",
    "portion of the operator graph that is sliced out is generated into the\n",
    "`nengo.Network()`."
   ]
  },
  {
   "cell_type": "code",
   "execution_count": null,
   "metadata": {},
   "outputs": [],
   "source": [
    "with nengo.Network() as model:\n",
    "    times_table(u)[:3, :3].make()\n",
    "\n",
    "InlineGUI(model)"
   ]
  }
 ],
 "metadata": {
  "language_info": {
   "name": "python",
   "pygments_lexer": "ipython3"
  }
 },
 "nbformat": 4,
 "nbformat_minor": 4
}
