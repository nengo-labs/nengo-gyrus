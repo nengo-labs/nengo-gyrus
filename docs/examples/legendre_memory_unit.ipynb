{
 "cells": [
  {
   "cell_type": "markdown",
   "metadata": {},
   "source": [
    "# Legendre Memory Unit (LMU)\n",
    "\n",
    "The Legendre Memory Unit ([LMU; Voelker et al.,\n",
    "2019](http://compneuro.uwaterloo.ca/files/publications/voelker.2019.lmu.pdf)) is a\n",
    "dynamical system that maintains a rolling window of continuous-time input history. It is\n",
    "implementable on neuromorphic hardware using Nengo. Here we show how it can be easily\n",
    "implemented using the `gyrus.lti` operator, and allows the user to easily apply it not\n",
    "only to scalars (as in the original paper), but to arbitrary input ndarrays (i.e.,\n",
    "tensors) using spiking neurons."
   ]
  },
  {
   "cell_type": "code",
   "execution_count": null,
   "metadata": {},
   "outputs": [],
   "source": [
    "%matplotlib inline\n",
    "import matplotlib.pyplot as plt\n",
    "import nengo\n",
    "from nengo_gui.ipython import InlineGUI\n",
    "\n",
    "import numpy as np\n",
    "\n",
    "import seaborn as sns\n",
    "\n",
    "import gyrus"
   ]
  },
  {
   "cell_type": "code",
   "execution_count": null,
   "metadata": {},
   "outputs": [],
   "source": [
    "def lmu(theta, order):\n",
    "    \"\"\"(A, B) linear system for the LMU of given length and dimensionality.\"\"\"\n",
    "    # Voelker et al., 2019, equation 1\n",
    "    Q = np.arange(order, dtype=np.float64)\n",
    "    R = (2 * Q + 1)[:, None] / theta\n",
    "    j, i = np.meshgrid(Q, Q)\n",
    "    A = np.where(i < j, -1, (-1.0) ** (i - j + 1)) * R\n",
    "    B = (-1.0) ** Q[:, None] * R\n",
    "    return A, B"
   ]
  },
  {
   "cell_type": "code",
   "execution_count": null,
   "metadata": {},
   "outputs": [],
   "source": [
    "AB = lmu(theta=1.0, order=8)\n",
    "\n",
    "ens_kwargs = dict(\n",
    "    n_neurons=250,\n",
    "    neuron_type=nengo.SpikingRectifiedLinear(),\n",
    "    max_rates=nengo.dists.Uniform(1e2, 1e3),\n",
    ")\n",
    "\n",
    "step = gyrus.stimulus(\n",
    "    [lambda t, i=i: 1 if t > i else 0 for i in np.linspace(0, 0.1, 20)]\n",
    ")\n",
    "\n",
    "x = gyrus.fold(\n",
    "    [\n",
    "        step.lti(AB, state=lambda x: x.split().decode(**ens_kwargs).join()),\n",
    "        step.lti(AB),\n",
    "    ]\n",
    ")\n",
    "\n",
    "out_hat, out_ideal = np.asarray(x.run(1.1))\n",
    "assert out_hat.shape == out_ideal.shape\n",
    "print(out_hat.shape)  # (shifted step functions, time steps, lmu dimensions)"
   ]
  },
  {
   "cell_type": "code",
   "execution_count": null,
   "metadata": {},
   "outputs": [],
   "source": [
    "colors = sns.color_palette(\"mako\", n_colors=out_hat.shape[0])\n",
    "\n",
    "plt.figure(figsize=(16, 4))\n",
    "plt.title(\"Legendre Memory Unit (LMU) - Shifted Step Responses\")\n",
    "for j in range(out_hat.shape[0]):\n",
    "    for i in range(out_hat.shape[2]):\n",
    "        color = colors[j]\n",
    "        plt.plot(out_hat[j, :, i], color=color, alpha=0.0)\n",
    "        plt.plot(out_ideal[j, :, i], color=color)  # , linestyle='--')\n",
    "plt.xlabel(\"Time-step\")\n",
    "plt.show()"
   ]
  },
  {
   "cell_type": "code",
   "execution_count": null,
   "metadata": {},
   "outputs": [],
   "source": [
    "with nengo.Network() as model:\n",
    "    x.make()\n",
    "\n",
    "InlineGUI(model)"
   ]
  }
 ],
 "metadata": {
  "language_info": {
   "name": "python",
   "pygments_lexer": "ipython3"
  }
 },
 "nbformat": 4,
 "nbformat_minor": 4
}
