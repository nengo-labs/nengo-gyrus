{
 "cells": [
  {
   "cell_type": "markdown",
   "metadata": {},
   "source": [
    "# 2-dimensional representation\n",
    "\n",
    "Ensembles of neurons represent information.\n",
    "In Nengo, we represent that information with\n",
    "real-valued vectors -- lists of numbers.\n",
    "In this example, we will represent a two-dimensional vector\n",
    "with a single ensemble of leaky integrate-and-fire neurons."
   ]
  },
  {
   "cell_type": "markdown",
   "metadata": {},
   "source": [
    "## Step 1: Import dependencies"
   ]
  },
  {
   "cell_type": "code",
   "execution_count": null,
   "metadata": {},
   "outputs": [],
   "source": [
    "%matplotlib inline\n",
    "import matplotlib.pyplot as plt\n",
    "import numpy as np\n",
    "\n",
    "import gyrus"
   ]
  },
  {
   "cell_type": "markdown",
   "metadata": {},
   "source": [
    "## Step 2: Provide input to the model\n",
    "\n",
    "The signal that an ensemble represents varies over time.\n",
    "We will use a simple sine and cosine wave\n",
    "as examples of continuously changing signals."
   ]
  },
  {
   "cell_type": "code",
   "execution_count": null,
   "metadata": {},
   "outputs": [],
   "source": [
    "# Create input nodes representing the sine and cosine\n",
    "stim = gyrus.stimulus([np.sin, np.cos])\n",
    "stim.size_out"
   ]
  },
  {
   "cell_type": "markdown",
   "metadata": {},
   "source": [
    "## Step 3: Connect the input to the ensemble\n",
    "\n",
    "Our model consists of a single ensemble.\n",
    "It will join the two nodes to represent a two-dimensional signal."
   ]
  },
  {
   "cell_type": "code",
   "execution_count": null,
   "metadata": {},
   "outputs": [],
   "source": [
    "# Our ensemble consists of 100 leaky integrate-and-fire neurons,\n",
    "# and represents a 2-dimensional signal\n",
    "ens = stim.join().decode()\n",
    "ens.size_out"
   ]
  },
  {
   "cell_type": "markdown",
   "metadata": {},
   "source": [
    "## Step 4: Probe outputs\n",
    "\n",
    "Anything that is probed will collect the data it produces over time,\n",
    "allowing us to analyze and visualize it later.\n",
    "Let's collect all the data produced."
   ]
  },
  {
   "cell_type": "code",
   "execution_count": null,
   "metadata": {},
   "outputs": [],
   "source": [
    "probes = gyrus.fold([*stim, ens.filter(0.01)])\n",
    "probes.size_out"
   ]
  },
  {
   "cell_type": "markdown",
   "metadata": {},
   "source": [
    "## Step 5: Run the model"
   ]
  },
  {
   "cell_type": "code",
   "execution_count": null,
   "metadata": {},
   "outputs": [],
   "source": [
    "data_sin, data_cos, data_neurons = probes.run(5)"
   ]
  },
  {
   "cell_type": "code",
   "execution_count": null,
   "metadata": {},
   "outputs": [],
   "source": [
    "# Plot the decoded output of the ensemble\n",
    "plt.figure()\n",
    "plt.plot(data_neurons, label=\"Decoded output\")\n",
    "plt.plot(data_sin, color=\"r\", label=\"Sine\")\n",
    "plt.plot(data_cos, color=\"k\", label=\"Cosine\")\n",
    "plt.legend()\n",
    "plt.xlabel(\"time-step\")\n",
    "plt.show()"
   ]
  }
 ],
 "metadata": {
  "language_info": {
   "name": "python",
   "pygments_lexer": "ipython3"
  }
 },
 "nbformat": 4,
 "nbformat_minor": 2
}
